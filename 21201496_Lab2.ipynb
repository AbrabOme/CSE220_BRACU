{
  "nbformat": 4,
  "nbformat_minor": 0,
  "metadata": {
    "colab": {
      "provenance": []
    },
    "kernelspec": {
      "name": "python3",
      "display_name": "Python 3"
    },
    "language_info": {
      "name": "python"
    }
  },
  "cells": [
    {
      "cell_type": "code",
      "source": [
        "in1=input()\n",
        "in2=input()\n",
        "if len(in1)>10 or len(in2)>10:\n",
        "    print(\"invalid input\")\n",
        "else:\n",
        "    arr=[[0]*len(in1),[0]*len(in2)]\n",
        "    up_l=''\n",
        "    up_I=0\n",
        "    down_l=''\n",
        "    down_I=0\n",
        "    for i in range(len(in1)):\n",
        "        arr[0][i]=in1[i]\n",
        "        if \"A\"<=in1[i]<=\"Z\":\n",
        "            up_l=in1[i]\n",
        "            up_I=i\n",
        "    for j in range(len(in2)):\n",
        "        arr[1][j]=in2[j]\n",
        "        if \"A\"<=in2[j]<=\"Z\":\n",
        "            down_l=in2[j]\n",
        "            down_I=j\n",
        "    print(\"Valid Input\")\n",
        "    print(\"Top Board Start Character\",up_l)\n",
        "    print(\"Top Board start Index\",up_I)\n",
        "    print(\"Bottom Board Start Character\",down_l)\n",
        "    print(\"Bottom Board start Index\",down_I)\n",
        "    up=up_I\n",
        "    down=down_I\n",
        "    st=input(\"give any letter to continue: \")\n",
        "    flag=True\n",
        "    if st == \"Q\" or st == \"q\":\n",
        "        flag = False \n",
        "    while flag :\n",
        "        l_r = up\n",
        "        for i in range(len(arr[0])):\n",
        "            print(arr[0][l_r],end=\"\")\n",
        "            l_r-=1\n",
        "            if l_r<0:\n",
        "                l_r=len(arr[0])-1\n",
        "        print()\n",
        "        r_r=down\n",
        "        for i in range(len(arr[1])):\n",
        "            print(arr[1][r_r], end=\"\")\n",
        "            r_r=(r_r+1)%len(arr[1])\n",
        "        print()\n",
        "        st=input(\"give any letter to continue: \")\n",
        "        if st ==\"Q\" or st==\"q\":\n",
        "            flag=False\n",
        "        else:\n",
        "            up-=1\n",
        "            if up<0:"
      ],
      "metadata": {
        "id": "eLTfo8BY_K0F",
        "colab": {
          "base_uri": "https://localhost:8080/"
        },
        "outputId": "7bfb0348-5183-415d-f205-b1bcd647486a"
      },
      "execution_count": null,
      "outputs": [
        {
          "output_type": "stream",
          "name": "stdout",
          "text": [
            "Right2left\n",
            "left2Right\n",
            "Valid Input\n",
            "Top Board Start Character R\n",
            "Top Board start Index 0\n",
            "Bottom Board Start Character R\n",
            "Bottom Board start Index 5\n",
            "give any letter to continue: f\n",
            "Rtfel2thgi\n",
            "Rightleft2\n",
            "give any letter to continue: f\n",
            "tfel2thgiR\n",
            "ightleft2R\n",
            "give any letter to continue: a\n",
            "fel2thgiRt\n",
            "ghtleft2Ri\n",
            "give any letter to continue: r\n",
            "el2thgiRtf\n",
            "htleft2Rig\n",
            "give any letter to continue: r\n",
            "l2thgiRtfe\n",
            "tleft2Righ\n",
            "give any letter to continue: a\n",
            "2thgiRtfel\n",
            "left2Right\n",
            "give any letter to continue: t\n",
            "thgiRtfel2\n",
            "eft2Rightl\n",
            "give any letter to continue: g\n",
            "hgiRtfel2t\n",
            "ft2Rightle\n",
            "give any letter to continue: g\n",
            "give any letter to continue: \n",
            "giRtfel2th\n",
            "t2Rightlef\n",
            "iRtfel2thg\n",
            "2Rightleft\n",
            "give any letter to continue: q\n",
            "Top Board Start Character R\n",
            "Top Board start Index 0\n",
            "Bottom Board Start Character R\n",
            "Bottom Board start Index 5\n"
          ]
        }
      ]
    },
    {
      "cell_type": "code",
      "source": [],
      "metadata": {
        "id": "gDaniU-Reb2Z"
      },
      "execution_count": null,
      "outputs": []
    }
  ]
}