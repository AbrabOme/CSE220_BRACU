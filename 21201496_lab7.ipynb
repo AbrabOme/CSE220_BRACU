{
  "nbformat": 4,
  "nbformat_minor": 0,
  "metadata": {
    "colab": {
      "provenance": []
    },
    "kernelspec": {
      "name": "python3",
      "display_name": "Python 3"
    },
    "language_info": {
      "name": "python"
    }
  },
  "cells": [
    {
      "cell_type": "code",
      "execution_count": null,
      "metadata": {
        "colab": {
          "base_uri": "https://localhost:8080/"
        },
        "id": "b_kqvH3pnC3X",
        "outputId": "198b7139-3731-41e8-c718-87f2c01f91f8"
      },
      "outputs": [
        {
          "output_type": "stream",
          "name": "stdout",
          "text": [
            "False\n",
            "[-6, -2, -1, 1, 3, 4]\n"
          ]
        }
      ],
      "source": [
        "#task 1\n",
        "class KeyIndex:\n",
        "    def __init__(self,arr):\n",
        "        self.pos = 0\n",
        "        max = arr[0]\n",
        "        for i in range(1,len(arr)):\n",
        "            if arr[i] > max:\n",
        "                max = arr[i]\n",
        "\n",
        "        min = arr[0]\n",
        "        for i in range(1,len(arr)):\n",
        "            if arr[i] < min:\n",
        "                min = arr[i]\n",
        "        \n",
        "        if min < 0:\n",
        "            self.pos = -1*min\n",
        "        \n",
        "        self.auxi = [0]*(self.pos+max+1)\n",
        "\n",
        "        for i in arr:\n",
        "            self.auxi[i+self.pos]+=1\n",
        "\n",
        "\n",
        "    def search(self,num):\n",
        "\n",
        "        if num+self.pos >= len(self.auxi):\n",
        "            return False\n",
        "        else:\n",
        "            return self.auxi[num+self.pos] != 0\n",
        "\n",
        "    def sort (self):\n",
        "        lis = []\n",
        "        for i in range(len(self.auxi)):\n",
        "            for j in range(self.auxi[i]):\n",
        "                lis += [i-self.pos]\n",
        "        return lis\n",
        "h1 = KeyIndex([-1,-2,1,3,4,-6])\n",
        "print(h1.search(6))\n",
        "print(h1.sort())\n",
        "     "
      ]
    },
    {
      "cell_type": "code",
      "source": [
        "#Task2\n",
        "class Hashing:\n",
        "    def __init__(self,arr):\n",
        "        self.hash = [None]*9\n",
        "        for i in arr:\n",
        "            self.add(i)\n",
        "        print(self.hash)\n",
        "        \n",
        "    \n",
        "    def add(self,num):\n",
        "            idx = self.getidx(num)\n",
        "            while self.hash[idx] is not None:\n",
        "                idx = (idx+1)%9\n",
        "            self.hash[idx] = num\n",
        "\n",
        "    def getidx(self,stri):\n",
        "            cons_count = 0\n",
        "            final_count = 0\n",
        "\n",
        "            for i in stri:\n",
        "                if \"A\" <= i <= \"Z\":\n",
        "                    if i not in \"AEIOU\":\n",
        "                        cons_count += 1\n",
        "                elif \"0\" <= i <= \"9\":\n",
        "                    final_count += int(i)\n",
        "            final_count += cons_count*24\n",
        "            return final_count%9\n",
        "\n",
        "Hashing([\"ATY1234\",\"AIKF123\",\"BKFJ1231\"])\n",
        "A=9"
      ],
      "metadata": {
        "colab": {
          "base_uri": "https://localhost:8080/"
        },
        "id": "xIS2KbbT-m3J",
        "outputId": "4d0fba3c-65c2-42e9-9228-eba2dac336d8"
      },
      "execution_count": null,
      "outputs": [
        {
          "output_type": "stream",
          "name": "stdout",
          "text": [
            "ATY1234 4\n",
            "AIKF123 0\n",
            "BKFJ1231 4\n",
            "['AIKF123', None, None, None, 'ATY1234', 'BKFJ1231', None, None, None]\n"
          ]
        }
      ]
    },
    {
      "cell_type": "code",
      "source": [],
      "metadata": {
        "id": "lQRDf_y_LhFg"
      },
      "execution_count": null,
      "outputs": []
    }
  ]
}