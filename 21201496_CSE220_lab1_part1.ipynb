{
  "nbformat": 4,
  "nbformat_minor": 0,
  "metadata": {
    "colab": {
      "provenance": []
    },
    "kernelspec": {
      "name": "python3",
      "display_name": "Python 3"
    },
    "language_info": {
      "name": "python"
    }
  },
  "cells": [
    {
      "cell_type": "markdown",
      "source": [
        "# **task1**"
      ],
      "metadata": {
        "id": "J0MZY0iir8DX"
      }
    },
    {
      "cell_type": "code",
      "source": [
        "def shiftLeft(source,k):\n",
        "    for i in range(k):\n",
        "        for i in range(1,len(source)):\n",
        "            source[i-1] = source[i]\n",
        "        source[len(source)-1] = 0\n",
        "    return source\n",
        "\n",
        "source = [10,20,30,40,50,60]\n",
        "shiftLeft(source,2)"
      ],
      "metadata": {
        "colab": {
          "base_uri": "https://localhost:8080/"
        },
        "id": "ZH8MDopD0deu",
        "outputId": "97564581-bd47-4046-cbd0-29ee19b52b41"
      },
      "execution_count": null,
      "outputs": [
        {
          "output_type": "execute_result",
          "data": {
            "text/plain": [
              "[30, 40, 50, 60, 0, 0]"
            ]
          },
          "metadata": {},
          "execution_count": 15
        }
      ]
    },
    {
      "cell_type": "markdown",
      "source": [
        "# Task2"
      ],
      "metadata": {
        "id": "W1mimklRr7TY"
      }
    },
    {
      "cell_type": "code",
      "source": [
        "def rotateLeft(source,k):\n",
        "    for i in range(k):\n",
        "        temp = source[0]\n",
        "        for i in range(1,len(source)):\n",
        "            source[i-1] = source[i]\n",
        "        source[len(source)-1] = temp\n",
        "    return source\n",
        "source = [10,20,30,40,50,60]\n",
        "rotateLeft(source,3)"
      ],
      "metadata": {
        "colab": {
          "base_uri": "https://localhost:8080/"
        },
        "id": "uGntPwQ-5dJj",
        "outputId": "e8abaab3-63ef-4147-c99d-8de929783299"
      },
      "execution_count": null,
      "outputs": [
        {
          "output_type": "stream",
          "name": "stdout",
          "text": [
            "[40, 50, 60, 10, 20, 30]\n"
          ]
        }
      ]
    },
    {
      "cell_type": "markdown",
      "source": [
        "# Task3"
      ],
      "metadata": {
        "id": "ZwHQg85f72ka"
      }
    },
    {
      "cell_type": "code",
      "source": [
        "def shifRight(source,k):\n",
        "    for j in range(k):\n",
        "        for i in range(len(source)-2,-1,-1):\n",
        "            source[i+1] = source[i]\n",
        "        source[0] = 0\n",
        "    return source\n",
        "source = [10,20,30,40,50,60]\n",
        "shifRight(source,3)"
      ],
      "metadata": {
        "colab": {
          "base_uri": "https://localhost:8080/"
        },
        "id": "XKjr_NGO7soq",
        "outputId": "3c731811-862e-4664-e64f-caedeea44fd9"
      },
      "execution_count": null,
      "outputs": [
        {
          "output_type": "stream",
          "name": "stdout",
          "text": [
            "[0, 0, 0, 10, 20, 30]\n"
          ]
        }
      ]
    },
    {
      "cell_type": "markdown",
      "source": [
        "# task4"
      ],
      "metadata": {
        "id": "uhD9tgc7-yNb"
      }
    },
    {
      "cell_type": "code",
      "source": [
        "def rotateRight(source,k):\n",
        "    for i in range(k):\n",
        "        temp = source[len(source)-1]\n",
        "        for i in range(len(source)-2,-1,-1):\n",
        "            source[i+1] = source[i]\n",
        "        source[0] = temp\n",
        "    return source\n",
        "source = [10,20,30,40,50,60]\n",
        "rotateRight(source,3)"
      ],
      "metadata": {
        "colab": {
          "base_uri": "https://localhost:8080/"
        },
        "id": "9xKw3OoQ8m4D",
        "outputId": "1d91e8c7-3661-4d24-954c-0f34f893a2b7"
      },
      "execution_count": null,
      "outputs": [
        {
          "output_type": "execute_result",
          "data": {
            "text/plain": [
              "[40, 50, 60, 10, 20, 30]"
            ]
          },
          "metadata": {},
          "execution_count": 9
        }
      ]
    },
    {
      "cell_type": "markdown",
      "source": [
        "# Task5"
      ],
      "metadata": {
        "id": "1MC69rcP_mPp"
      }
    },
    {
      "cell_type": "code",
      "source": [
        "def remove (source,idx):\n",
        "    for i in range(idx+1,len(source)):\n",
        "        source[i-1] = source[i]\n",
        "    source[len(source)-1] = 0\n",
        "    return source\n",
        "source = [10,20,30,40,50,60]\n",
        "remove(source,3)"
      ],
      "metadata": {
        "colab": {
          "base_uri": "https://localhost:8080/"
        },
        "id": "qTyfgHjl_XxA",
        "outputId": "ae37d332-cafb-4adf-9940-7bd497fd57fc"
      },
      "execution_count": null,
      "outputs": [
        {
          "output_type": "execute_result",
          "data": {
            "text/plain": [
              "[10, 20, 30, 50, 60, 0]"
            ]
          },
          "metadata": {},
          "execution_count": 14
        }
      ]
    },
    {
      "cell_type": "markdown",
      "source": [
        "# Task6"
      ],
      "metadata": {
        "id": "YIGb-z5hPwtq"
      }
    },
    {
      "cell_type": "code",
      "source": [
        "def removeAll(source,num):\n",
        "    \n",
        "    i = 0\n",
        "    while i < len(source):\n",
        "        if source[i] == num:\n",
        "            for j in range(i+1,len(source)):\n",
        "                \n",
        "                source[j-1] = source[j]\n",
        "            source[len(source)-1] = 0\n",
        "            \n",
        "        else:\n",
        "            i +=1\n",
        "    return source\n",
        "source = [10,2,30,2,50,2,2]\n",
        "removeAll(source,2)  "
      ],
      "metadata": {
        "id": "knDRFbLsRkXY",
        "colab": {
          "base_uri": "https://localhost:8080/"
        },
        "outputId": "530f2ec2-60b0-482a-f906-8e1fa5766bc4"
      },
      "execution_count": null,
      "outputs": [
        {
          "output_type": "execute_result",
          "data": {
            "text/plain": [
              "[10, 30, 50, 0, 0, 0, 0]"
            ]
          },
          "metadata": {},
          "execution_count": 16
        }
      ]
    },
    {
      "cell_type": "markdown",
      "source": [
        "# task7"
      ],
      "metadata": {
        "id": "jDIidsVQMei7"
      }
    },
    {
      "cell_type": "code",
      "source": [
        "def split (source):\n",
        "    lh = 0\n",
        "    for i in range(0,len(source)-1):\n",
        "        lh += source[i]\n",
        "        rh = 0\n",
        "        for j in range(i+1,len(source)):\n",
        "            rh += source[j]\n",
        "        if lh == rh:\n",
        "            return True\n",
        "    return False\n",
        "source = [1,1,1,2,1]\n",
        "split(source)"
      ],
      "metadata": {
        "colab": {
          "base_uri": "https://localhost:8080/"
        },
        "id": "xNTrK6EVMAfc",
        "outputId": "cf9fe829-c57d-41f0-bd87-a4c096dc92da"
      },
      "execution_count": null,
      "outputs": [
        {
          "output_type": "execute_result",
          "data": {
            "text/plain": [
              "True"
            ]
          },
          "metadata": {},
          "execution_count": 5
        }
      ]
    },
    {
      "cell_type": "markdown",
      "source": [
        "# Task8"
      ],
      "metadata": {
        "id": "7Pbhxu6QPZWa"
      }
    },
    {
      "cell_type": "code",
      "source": [
        "def bunch(source):\n",
        "    max_bunch = 0\n",
        "    temp_bunch = 1\n",
        "    \n",
        "    i = 0\n",
        "    while i<len(source)-1:\n",
        "        if source[i] == source[i+1]:\n",
        "            temp_bunch += 1\n",
        "        else:\n",
        "            if temp_bunch > max_bunch:\n",
        "                max_bunch = temp_bunch\n",
        "            temp_bunch  = 1\n",
        "        i += 1\n",
        "    if temp_bunch > max_bunch:\n",
        "        max_bunch = temp_bunch\n",
        "    \n",
        " \n",
        "    return max_bunch\n",
        "source = [1,1,2, 2, 1, 1,1,1]\n",
        "bunch(source)"
      ],
      "metadata": {
        "colab": {
          "base_uri": "https://localhost:8080/"
        },
        "id": "8cOpuqGKNrrS",
        "outputId": "c39aa118-5edf-4ba6-dd1a-765cc7c7af7d"
      },
      "execution_count": null,
      "outputs": [
        {
          "output_type": "execute_result",
          "data": {
            "text/plain": [
              "4"
            ]
          },
          "metadata": {},
          "execution_count": 13
        }
      ]
    }
  ]
}