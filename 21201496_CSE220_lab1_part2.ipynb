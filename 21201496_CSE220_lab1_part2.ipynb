{
  "cells": [
    {
      "cell_type": "markdown",
      "source": [
        "# Task1"
      ],
      "metadata": {
        "id": "IA89sjq3_kDW"
      },
      "id": "IA89sjq3_kDW"
    },
    {
      "cell_type": "code",
      "execution_count": null,
      "id": "d2751592",
      "metadata": {
        "id": "d2751592",
        "outputId": "dbfc5bf8-0f2d-4153-9421-4b9787abe300",
        "colab": {
          "base_uri": "https://localhost:8080/"
        }
      },
      "outputs": [
        {
          "output_type": "execute_result",
          "data": {
            "text/plain": [
              "10.181818181818182"
            ]
          },
          "metadata": {},
          "execution_count": 1
        }
      ],
      "source": [
        "#Create a function that will take an array and return the mean of the values\n",
        "\n",
        "def meanfinder(source):\n",
        "    temp = 0\n",
        "    for i in source:\n",
        "        temp += i\n",
        "        \n",
        "    mean = temp/len(source)\n",
        "    return mean\n",
        "meanfinder([10, 8, 13, 9, 14, 25, -5, 20, 7, 7, 4])"
      ]
    },
    {
      "cell_type": "markdown",
      "source": [
        "# Task2"
      ],
      "metadata": {
        "id": "dvL_1Q_m_l41"
      },
      "id": "dvL_1Q_m_l41"
    },
    {
      "cell_type": "code",
      "execution_count": null,
      "id": "8abac60c",
      "metadata": {
        "colab": {
          "base_uri": "https://localhost:8080/"
        },
        "id": "8abac60c",
        "outputId": "a5ffe1ac-e572-468c-d6a5-ff3aad53d625"
      },
      "outputs": [
        {
          "output_type": "execute_result",
          "data": {
            "text/plain": [
              "7.96"
            ]
          },
          "metadata": {},
          "execution_count": 2
        }
      ],
      "source": [
        "#Create a function that will take an array and return the standard deviation of the values\n",
        "import math\n",
        "def sdfinder(source):\n",
        "    temp = 0\n",
        "    n_temp = 0\n",
        "    for i in source:\n",
        "        temp += i\n",
        "        \n",
        "    mean = round(temp/len(source),2)\n",
        "    for i in range(0,len(source)):\n",
        "        source[i] = round((source[i]-mean)**2,2)\n",
        "        \n",
        "    for i in source:       \n",
        "        n_temp += i\n",
        "\n",
        "    var = n_temp/(len(source)-1)\n",
        "    \n",
        "    sd = round(math.sqrt(var),2)\n",
        "    \n",
        "    return sd\n",
        "sdfinder([10, 8, 13, 9, 14, 25, -5, 20, 7, 7, 4])"
      ]
    },
    {
      "cell_type": "markdown",
      "source": [
        "# Task3"
      ],
      "metadata": {
        "id": "0T-3oRda_oD1"
      },
      "id": "0T-3oRda_oD1"
    },
    {
      "cell_type": "code",
      "execution_count": null,
      "id": "a1bba0d5",
      "metadata": {
        "colab": {
          "base_uri": "https://localhost:8080/"
        },
        "id": "a1bba0d5",
        "outputId": "1774fe88-2b2b-4c32-e658-2c65ef0235ef"
      },
      "outputs": [
        {
          "output_type": "execute_result",
          "data": {
            "text/plain": [
              "[25, -5]"
            ]
          },
          "metadata": {},
          "execution_count": 3
        }
      ],
      "source": [
        "#Create a function that will take an array and create a new array whose length will be the total number of values of the array which are 1.5 standard deviations away from the mean of that array. Finally, return the new array. If there is no such value then return None.\n",
        "import math\n",
        "\n",
        "def newArr(source):\n",
        "    new_arr = []\n",
        "    arr = []\n",
        "    temp = 0\n",
        "    n_temp = 0\n",
        "    for i in source:\n",
        "        temp += i\n",
        "        \n",
        "    mean = temp/len(source)\n",
        "    for i in source:\n",
        "        arr.append( (i-mean)**2)\n",
        "        \n",
        "    for i in arr:       \n",
        "        n_temp += i\n",
        "        \n",
        "    var = n_temp/(len(arr)-1)\n",
        "    \n",
        "    sd = math.sqrt(var)\n",
        "    \n",
        "    min_ = mean - sd*1.5\n",
        "    max_ = mean + sd*1.5\n",
        "\n",
        "    for i in source:\n",
        "        if i > max_:\n",
        "            new_arr.append(i)\n",
        "    for i in source:\n",
        "        if i<min_:\n",
        "            new_arr.append(i)\n",
        "    \n",
        "    return new_arr\n",
        "\n",
        "newArr([10, 8, 13, 9, 14, 25, -5, 20, 7, 7, 4])"
      ]
    },
    {
      "cell_type": "markdown",
      "source": [
        "# Task4"
      ],
      "metadata": {
        "id": "RacBZ2Mm_pul"
      },
      "id": "RacBZ2Mm_pul"
    },
    {
      "cell_type": "code",
      "execution_count": null,
      "id": "c63ddd60",
      "metadata": {
        "colab": {
          "base_uri": "https://localhost:8080/"
        },
        "id": "c63ddd60",
        "outputId": "6d2e6e19-6e7c-48e9-8323-e20c5a94988e"
      },
      "outputs": [
        {
          "output_type": "stream",
          "name": "stdout",
          "text": [
            "10.181818181818182\n",
            "7.96\n",
            "[25, -5]\n"
          ]
        }
      ],
      "source": [
        "import math\n",
        "\n",
        "class lab_work:\n",
        "    def __init__(self, lis):\n",
        "        self.source=lis\n",
        "\n",
        "    def meanfinder(self):\n",
        "        source=self.source\n",
        "        temp = 0\n",
        "        for i in source:\n",
        "            temp += i\n",
        "            \n",
        "        mean = temp/len(source)\n",
        "        return mean\n",
        "\n",
        "    def sdfinder(self):\n",
        "        source=self.source\n",
        "        arr=[0]*len(source)\n",
        "        temp = 0\n",
        "        n_temp = 0\n",
        "        for i in source:\n",
        "            temp += i\n",
        "            \n",
        "        mean = round(temp/len(source),2)\n",
        "        for i in range(0,len(source)):\n",
        "            arr[i] = round((source[i]-mean)**2,2)\n",
        "            \n",
        "        for i in arr:       \n",
        "            n_temp += i\n",
        "\n",
        "        var = n_temp/(len(source)-1)\n",
        "        \n",
        "        sd = round(math.sqrt(var),2)\n",
        "        \n",
        "        return sd\n",
        "    def newArr(self):\n",
        "        source=self.source\n",
        "        new_arr = []\n",
        "        arr = []\n",
        "        temp = 0\n",
        "        n_temp = 0\n",
        "        for i in source:\n",
        "            temp += i\n",
        "            \n",
        "        mean = temp/len(source)\n",
        "        \n",
        "        for i in source:\n",
        "            arr.append( (i-mean)**2)\n",
        "            \n",
        "        for i in arr:       \n",
        "            n_temp += i\n",
        "            \n",
        "        var = n_temp/(len(arr)-1)\n",
        "        \n",
        "        sd = math.sqrt(var)\n",
        "        \n",
        "        min_ = mean - sd*1.5\n",
        "        max_ = mean + sd*1.5\n",
        "\n",
        "        for i in source:\n",
        "            if i > max_:\n",
        "                new_arr.append(i)\n",
        "        for i in source:\n",
        "            if i<min_:\n",
        "                new_arr.append(i)\n",
        "        \n",
        "        return new_arr\n",
        "\n",
        "array=[10, 8, 13, 9, 14, 25, -5, 20, 7, 7, 4]\n",
        "try1=lab_work(array)\n",
        "print(try1.meanfinder())\n",
        "print(try1.sdfinder())\n",
        "print(try1.newArr())"
      ]
    }
  ],
  "metadata": {
    "kernelspec": {
      "display_name": "Python 3 (ipykernel)",
      "language": "python",
      "name": "python3"
    },
    "language_info": {
      "codemirror_mode": {
        "name": "ipython",
        "version": 3
      },
      "file_extension": ".py",
      "mimetype": "text/x-python",
      "name": "python",
      "nbconvert_exporter": "python",
      "pygments_lexer": "ipython3",
      "version": "3.9.7"
    },
    "colab": {
      "provenance": []
    }
  },
  "nbformat": 4,
  "nbformat_minor": 5
}