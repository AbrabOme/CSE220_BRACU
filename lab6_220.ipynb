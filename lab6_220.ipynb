{
  "nbformat": 4,
  "nbformat_minor": 0,
  "metadata": {
    "colab": {
      "provenance": []
    },
    "kernelspec": {
      "name": "python3",
      "display_name": "Python 3"
    },
    "language_info": {
      "name": "python"
    }
  },
  "cells": [
    {
      "cell_type": "code",
      "execution_count": null,
      "metadata": {
        "id": "J2BNHHGg9agA",
        "colab": {
          "base_uri": "https://localhost:8080/"
        },
        "outputId": "b2d85df6-5d0b-4da8-a20b-64e01e80a44f"
      },
      "outputs": [
        {
          "output_type": "stream",
          "name": "stdout",
          "text": [
            "720\n"
          ]
        }
      ],
      "source": [
        "def factorial(n):\n",
        "    if n == 0 or n == 1:\n",
        "        return 1\n",
        "    else:\n",
        "        return n * factorial(n-1)\n",
        "\n",
        "fac = factorial(6)\n",
        "print(fac)"
      ]
    },
    {
      "cell_type": "code",
      "source": [
        "def fibonacci(n):\n",
        "    if n == 0:\n",
        "        return 0\n",
        "    elif n == 1:\n",
        "        return 1\n",
        "    else:\n",
        "        return fibonacci(n-1) + fibonacci(n-2)\n",
        "fib = fibonacci(4)\n",
        "print(fib)"
      ],
      "metadata": {
        "colab": {
          "base_uri": "https://localhost:8080/"
        },
        "id": "C6VdSD81_r2X",
        "outputId": "223dd738-ed7f-4e7c-cbe4-e12bdbc5ec7c"
      },
      "execution_count": null,
      "outputs": [
        {
          "output_type": "stream",
          "name": "stdout",
          "text": [
            "3\n"
          ]
        }
      ]
    },
    {
      "cell_type": "code",
      "source": [
        "def print_array(lis,index):\n",
        "    if index == len(lis):\n",
        "        return\n",
        "    else:\n",
        "        print(lis[index])\n",
        "        print_array(lis,index+1)\n",
        "lis = [1,2,3,4,5,7]\n",
        "print_array(lis,0)"
      ],
      "metadata": {
        "colab": {
          "base_uri": "https://localhost:8080/"
        },
        "id": "7zjnUB_lAKc3",
        "outputId": "ff676fa8-a496-491d-9e3a-60271f56ca89"
      },
      "execution_count": null,
      "outputs": [
        {
          "output_type": "stream",
          "name": "stdout",
          "text": [
            "1\n",
            "2\n",
            "3\n",
            "4\n",
            "5\n",
            "7\n"
          ]
        }
      ]
    },
    {
      "cell_type": "code",
      "source": [
        "def powerN (base,n):\n",
        "    if n == 0:\n",
        "        return 1\n",
        "    else:\n",
        "\n",
        "        return base*powerN(base,n-1)\n",
        "\n",
        "po = powerN(3,2)\n",
        "print(po)"
      ],
      "metadata": {
        "colab": {
          "base_uri": "https://localhost:8080/"
        },
        "id": "Jmuj2DV-Armb",
        "outputId": "92c70cdc-76f3-4fbe-cd80-d4aea9131053"
      },
      "execution_count": null,
      "outputs": [
        {
          "output_type": "stream",
          "name": "stdout",
          "text": [
            "9\n"
          ]
        }
      ]
    },
    {
      "cell_type": "code",
      "source": [
        "def deci_to_bin(n):\n",
        "    if n == 0:\n",
        "        return 0\n",
        "    else:\n",
        "        return deci_to_bin(n//2)* 10 + (n%2)\n",
        "dec = deci_to_bin(11)\n",
        "print(dec)"
      ],
      "metadata": {
        "colab": {
          "base_uri": "https://localhost:8080/"
        },
        "id": "6i65QgYqBbcC",
        "outputId": "131bf6b9-987d-4338-e745-c0d13880150f"
      },
      "execution_count": null,
      "outputs": [
        {
          "output_type": "stream",
          "name": "stdout",
          "text": [
            "1011\n"
          ]
        }
      ]
    },
    {
      "cell_type": "code",
      "source": [
        "class Node:\n",
        "    def __init__(self, value):\n",
        "        self.value = value\n",
        "        self.next = None\n",
        "\n",
        "\n",
        "class linklist:\n",
        "    def __init__(self, array):\n",
        "        self.head = None\n",
        "        tail = None\n",
        "        for x in array:\n",
        "            new_node = Node(x)\n",
        "            if self.head == None:\n",
        "                self.head = new_node\n",
        "                tail = new_node\n",
        "            else:\n",
        "                tail.next = new_node\n",
        "                tail = new_node\n",
        "\n",
        "    def sum_add(self, head):\n",
        "        if head is None:\n",
        "            return 0\n",
        "        else:\n",
        "            return head.value + self.sum_add(head.next)\n",
        "\n",
        "    def sum(self):\n",
        "        return self.sum_add(self.head)\n",
        "\n",
        "\n",
        "array = [1, 2, 3, 4, 5, 6, 7]\n",
        "listlinked = linklist(array)\n",
        "print(listlinked.sum())"
      ],
      "metadata": {
        "colab": {
          "base_uri": "https://localhost:8080/"
        },
        "id": "GvpOxIJoCH28",
        "outputId": "158d7cc5-1425-4aa3-93cc-f1a13a006c15"
      },
      "execution_count": null,
      "outputs": [
        {
          "output_type": "stream",
          "name": "stdout",
          "text": [
            "28\n"
          ]
        }
      ]
    },
    {
      "cell_type": "code",
      "source": [
        "class Node:\n",
        "    def __init__(self, value):\n",
        "        self.value = value\n",
        "        self.next = None\n",
        "\n",
        "\n",
        "class linklist:\n",
        "    def __init__(self, array):\n",
        "        self.head = None\n",
        "        tail = None\n",
        "        for x in array:\n",
        "            new_node = Node(x)\n",
        "            if self.head == None:\n",
        "                self.head = new_node\n",
        "                tail = new_node\n",
        "            else:\n",
        "                tail.next = new_node\n",
        "                tail = new_node\n",
        "         \n",
        "    def reverse(self,head):\n",
        "        if head.next is None:\n",
        "            print(head.value)\n",
        "        else:\n",
        "            self.reverse(head.next)\n",
        "            print(head.value)\n",
        "            \n",
        "    def print(self):\n",
        "        return self.reverse(self.head)\n",
        "\n",
        "array = [1, 2, 3, 4, 5, 6, 7]\n",
        "listlinked = linklist(array)\n",
        "listlinked.print()"
      ],
      "metadata": {
        "colab": {
          "base_uri": "https://localhost:8080/"
        },
        "id": "-3iX8r1WGCae",
        "outputId": "0b08ca60-8a1f-48f2-8a82-12622aef16a0"
      },
      "execution_count": null,
      "outputs": [
        {
          "output_type": "stream",
          "name": "stdout",
          "text": [
            "7\n",
            "6\n",
            "5\n",
            "4\n",
            "3\n",
            "2\n",
            "1\n"
          ]
        }
      ]
    },
    {
      "cell_type": "code",
      "source": [
        "def hocBuilder(height):\n",
        "    if height == 0:\n",
        "        return 0\n",
        "    elif height == 1:\n",
        "        return 8\n",
        "    else:\n",
        "        return 5 + hocBuilder(height-1)\n",
        "n = int(input(\"Enter the height: \")) \n",
        "hocBuilder(n)"
      ],
      "metadata": {
        "id": "AWudLRIbTN5w",
        "colab": {
          "base_uri": "https://localhost:8080/"
        },
        "outputId": "50ac0208-792b-4b95-920c-8dccdb6af98d"
      },
      "execution_count": null,
      "outputs": [
        {
          "name": "stdout",
          "output_type": "stream",
          "text": [
            "Enter the height: 3\n"
          ]
        },
        {
          "output_type": "execute_result",
          "data": {
            "text/plain": [
              "18"
            ]
          },
          "metadata": {},
          "execution_count": 3
        }
      ]
    },
    {
      "cell_type": "code",
      "source": [
        "def iterate(n):\n",
        "    if n==0:\n",
        "        return\n",
        "    iterate(n-1)\n",
        "    dowork(n)\n",
        "    print()\n",
        "    \n",
        "def dowork(k, j=1):\n",
        "    if j>k:\n",
        "        return\n",
        "    print(j, end=\" \")\n",
        "    dowork(k,j+1)\n",
        "iterate(5)"
      ],
      "metadata": {
        "colab": {
          "base_uri": "https://localhost:8080/"
        },
        "id": "lXe5XCyVCoa4",
        "outputId": "762d6fb2-b03b-41e5-f1cb-90f0911c3417"
      },
      "execution_count": null,
      "outputs": [
        {
          "output_type": "stream",
          "name": "stdout",
          "text": [
            "1 \n",
            "1 2 \n",
            "1 2 3 \n",
            "1 2 3 4 \n",
            "1 2 3 4 5 \n"
          ]
        }
      ]
    },
    {
      "cell_type": "code",
      "source": [
        "def pattern(n):\n",
        "    if n == 0:\n",
        "        return 0\n",
        "    else:\n",
        "        pattern(n-1)\n",
        "        print(n, end=\"\")\n",
        "\n",
        "\n",
        "def print_pattern(n, i):\n",
        "    if n == 0:\n",
        "        return 0\n",
        "    else:\n",
        "        space(n-1)\n",
        "        pattern((i)-n+1)\n",
        "        print()\n",
        "        print_pattern(n-1, i)\n",
        "\n",
        "\n",
        "def space(n):\n",
        "    if n == 0:\n",
        "        return 0\n",
        "    else:\n",
        "        space(n - 1)\n",
        "        print(\"\", end=\" \")\n",
        "\n",
        "\n",
        "print_pattern(5,5)"
      ],
      "metadata": {
        "colab": {
          "base_uri": "https://localhost:8080/"
        },
        "id": "fVs77JNcgKsY",
        "outputId": "62476bf7-5ed4-4803-d06d-e5215ce0d9ec"
      },
      "execution_count": null,
      "outputs": [
        {
          "output_type": "stream",
          "name": "stdout",
          "text": [
            "    1\n",
            "   12\n",
            "  123\n",
            " 1234\n",
            "12345\n"
          ]
        }
      ]
    },
    {
      "cell_type": "code",
      "source": [
        "class FinalIQ:\n",
        "    def printit(self, arr,idx):\n",
        "        if idx<len(arr):\n",
        "            profit=self.calcprofit(array[idx])\n",
        "            print(\"investment:\", str(arr[idx])+ \"; Profit:\",float(profit))\n",
        "            self.printit(arr, idx+1)\n",
        "            \n",
        "    def calcprofit(self,inv):\n",
        "        \n",
        "        if inv<=25000:\n",
        "            return 0\n",
        "        if  inv <= 100000:\n",
        "            return 45+ self.calcprofit(inv-1000) \n",
        "        elif inv >100000:       \n",
        "            return 80+ self.calcprofit(inv-1000) \n",
        "                \n",
        "array=[25000,100000,250000,350000]\n",
        "f = FinalIQ()\n",
        "f.printit(array,0)"
      ],
      "metadata": {
        "colab": {
          "base_uri": "https://localhost:8080/"
        },
        "id": "PSEvI_OMgeMf",
        "outputId": "76a43ee9-bd5b-46f3-f905-53e10ab8abd0"
      },
      "execution_count": null,
      "outputs": [
        {
          "output_type": "stream",
          "name": "stdout",
          "text": [
            "investment: 25000; Profit: 0.0\n",
            "investment: 100000; Profit: 3375.0\n",
            "investment: 250000; Profit: 15375.0\n",
            "investment: 350000; Profit: 23375.0\n"
          ]
        }
      ]
    },
    {
      "cell_type": "code",
      "source": [
        "class Node:\n",
        "    def __init__(self, value):\n",
        "        self.value = value\n",
        "        self.next = None\n",
        "\n",
        "\n",
        "class linklist:\n",
        "    def __init__(self ):\n",
        "        self.head = None\n",
        "        self.tail = None\n",
        "\n",
        "def flattenList(given_list, h):\n",
        "    if len(given_list) == 0:\n",
        "        return h.head\n",
        "    temp = given_list.pop(0)\n",
        "    \n",
        "    if type(temp) == int:\n",
        "        \n",
        "        n=Node(temp)\n",
        "        \n",
        "        if h.head==None:\n",
        "            h.head=n\n",
        "            h.tail=h.head\n",
        "        else:\n",
        "            h.tail.next=n\n",
        "            h.tail=n\n",
        "    else:\n",
        "        flattenList(temp,h)\n",
        "    return flattenList(given_list,h)\n",
        "lst=linklist()\n",
        "ans=flattenList([1, [2, [3, [4], 5], 6], 7, 8, [9, [[10, 11], 12], 13], 14, [15, [16, [17]]]],lst)\n",
        "while ans!=None:\n",
        "    print(ans.value, end=\" \")\n",
        "    ans=ans.next"
      ],
      "metadata": {
        "colab": {
          "base_uri": "https://localhost:8080/"
        },
        "id": "Fc5nWmBeY5Yc",
        "outputId": "300b7317-6eb0-435f-aa0d-138c49996b8b"
      },
      "execution_count": null,
      "outputs": [
        {
          "output_type": "stream",
          "name": "stdout",
          "text": [
            "1 2 3 4 5 6 7 8 9 10 11 12 13 14 15 16 17 "
          ]
        }
      ]
    },
    {
      "cell_type": "code",
      "source": [],
      "metadata": {
        "id": "-cnWtlACamKy"
      },
      "execution_count": null,
      "outputs": []
    }
  ]
}